{
 "cells": [
  {
   "cell_type": "markdown",
   "metadata": {
    "application/vnd.databricks.v1+cell": {
     "cellMetadata": {},
     "inputWidgets": {},
     "nuid": "ad6253c1-15c1-4749-8554-37c41081cccd",
     "showTitle": false,
     "tableResultSettingsMap": {},
     "title": ""
    }
   },
   "source": [
    "\n",
    "<div style=\"text-align: center; line-height: 0; padding-top: 9px;\">\n",
    "  <img src=\"https://databricks.com/wp-content/uploads/2018/03/db-academy-rgb-1200px.png\" alt=\"Databricks Learning\">\n",
    "</div>\n"
   ]
  },
  {
   "cell_type": "markdown",
   "metadata": {
    "application/vnd.databricks.v1+cell": {
     "cellMetadata": {},
     "inputWidgets": {},
     "nuid": "695354c0-e8f1-4240-b9ec-82d091372306",
     "showTitle": false,
     "tableResultSettingsMap": {},
     "title": ""
    }
   },
   "source": [
    "# Manipulate Delta Tables Lab\n",
    "\n",
    "This notebook provides a hands-on review of some of the more esoteric features Delta Lake brings to the data lakehouse.\n",
    "\n",
    "## Learning Objectives\n",
    "By the end of this lab, you should be able to:\n",
    "- Review table history\n",
    "- Query previous table versions and rollback a table to a specific version"
   ]
  },
  {
   "cell_type": "markdown",
   "metadata": {
    "application/vnd.databricks.v1+cell": {
     "cellMetadata": {},
     "inputWidgets": {},
     "nuid": "a5b25c5b-e4ef-4d32-b05e-4a8c0e4234b5",
     "showTitle": false,
     "tableResultSettingsMap": {},
     "title": ""
    }
   },
   "source": [
    "## REQUIRED - SELECT CLASSIC COMPUTE\n",
    "\n",
    "Before executing cells in this notebook, please select your classic compute cluster in the lab. Be aware that **Serverless** is enabled by default.\n",
    "\n",
    "Follow these steps to select the classic compute cluster:\n",
    "\n",
    "1. Navigate to the top-right of this notebook and click the drop-down menu to select your cluster. By default, the notebook will use **Serverless**.\n",
    "\n",
    "1. If your cluster is available, select it and continue to the next cell. If the cluster is not shown:\n",
    "\n",
    "  - In the drop-down, select **More**.\n",
    "\n",
    "  - In the **Attach to an existing compute resource** pop-up, select the first drop-down. You will see a unique cluster name in that drop-down. Please select that cluster.\n",
    "\n",
    "**NOTE:** If your cluster has terminated, you might need to restart it in order to select it. To do this:\n",
    "\n",
    "1. Right-click on **Compute** in the left navigation pane and select *Open in new tab*.\n",
    "\n",
    "1. Find the triangle icon to the right of your compute cluster name and click it.\n",
    "\n",
    "1. Wait a few minutes for the cluster to start.\n",
    "\n",
    "1. Once the cluster is running, complete the steps above to select your cluster."
   ]
  },
  {
   "cell_type": "markdown",
   "metadata": {
    "application/vnd.databricks.v1+cell": {
     "cellMetadata": {},
     "inputWidgets": {},
     "nuid": "730822e7-3a66-4792-bfb0-2a66ba43dee1",
     "showTitle": true,
     "tableResultSettingsMap": {},
     "title": "cvf"
    }
   },
   "source": [
    "## Classroom Setup\n",
    "\n",
    "Run the following cell to configure your working environment for this course. It will also set your default catalog to **dbacademy** and the schema to your specific schema name shown below using the `USE` statements.\n",
    "<br></br>\n",
    "\n",
    "\n",
    "```\n",
    "USE CATALOG dbacademy;\n",
    "USE SCHEMA dbacademy.<your unique schema name>;\n",
    "```\n",
    "\n",
    "**NOTE:** The `DA` object is only used in Databricks Academy courses and is not available outside of these courses. It will dynamically reference the information needed to run the course."
   ]
  },
  {
   "cell_type": "code",
   "execution_count": 0,
   "metadata": {
    "application/vnd.databricks.v1+cell": {
     "cellMetadata": {},
     "inputWidgets": {},
     "nuid": "78bd154c-ac47-4364-b927-f4cc04f6f702",
     "showTitle": false,
     "tableResultSettingsMap": {},
     "title": ""
    }
   },
   "outputs": [],
   "source": [
    "%run ./Includes/Classroom-Setup-8L"
   ]
  },
  {
   "cell_type": "markdown",
   "metadata": {
    "application/vnd.databricks.v1+cell": {
     "cellMetadata": {},
     "inputWidgets": {},
     "nuid": "d7b72942-a96a-4a79-8cc5-6b7d32803d62",
     "showTitle": false,
     "tableResultSettingsMap": {},
     "title": ""
    }
   },
   "source": [
    "## Create History of Bean Collection\n",
    "\n",
    "The cell below includes various table operations, resulting in the following schema for the **`beans`** table:\n",
    "\n",
    "| Field Name | Field type |\n",
    "| --- | --- |\n",
    "| name | STRING |\n",
    "| color | STRING |\n",
    "| grams | FLOAT |\n",
    "| delicious | BOOLEAN |"
   ]
  },
  {
   "cell_type": "code",
   "execution_count": 0,
   "metadata": {
    "application/vnd.databricks.v1+cell": {
     "cellMetadata": {},
     "inputWidgets": {},
     "nuid": "00258434-880b-41e6-84a2-e9c4c85800f7",
     "showTitle": false,
     "tableResultSettingsMap": {},
     "title": ""
    }
   },
   "outputs": [],
   "source": [
    "CREATE OR REPLACE TABLE beans \n",
    "(name STRING, color STRING, grams FLOAT, delicious BOOLEAN);\n",
    "\n",
    "INSERT INTO beans VALUES\n",
    "(\"black\", \"black\", 500, true),\n",
    "(\"lentils\", \"brown\", 1000, true),\n",
    "(\"jelly\", \"rainbow\", 42.5, false);\n",
    "\n",
    "INSERT INTO beans VALUES\n",
    "('pinto', 'brown', 1.5, true),\n",
    "('green', 'green', 178.3, true),\n",
    "('beanbag chair', 'white', 40000, false);\n",
    "\n",
    "UPDATE beans\n",
    "SET delicious = true\n",
    "WHERE name = \"jelly\";\n",
    "\n",
    "UPDATE beans\n",
    "SET grams = 1500\n",
    "WHERE name = 'pinto';\n",
    "\n",
    "DELETE FROM beans\n",
    "WHERE delicious = false;\n",
    "\n",
    "CREATE OR REPLACE TEMP VIEW new_beans(name, color, grams, delicious) AS VALUES\n",
    "('black', 'black', 60.5, true),\n",
    "('lentils', 'green', 500, true),\n",
    "('kidney', 'red', 387.2, true),\n",
    "('castor', 'brown', 25, false);\n",
    "\n",
    "MERGE INTO beans a\n",
    "USING new_beans b\n",
    "ON a.name=b.name AND a.color = b.color\n",
    "WHEN MATCHED THEN\n",
    "  UPDATE SET grams = a.grams + b.grams\n",
    "WHEN NOT MATCHED AND b.delicious = true THEN\n",
    "  INSERT *;"
   ]
  },
  {
   "cell_type": "markdown",
   "metadata": {
    "application/vnd.databricks.v1+cell": {
     "cellMetadata": {},
     "inputWidgets": {},
     "nuid": "04891a24-7b92-470f-8fe6-1c9082871e06",
     "showTitle": false,
     "tableResultSettingsMap": {},
     "title": ""
    }
   },
   "source": [
    "## Review the Table History\n",
    "\n",
    "Delta Lake's transaction log stores information about each transaction that modifies a table's contents or settings.\n",
    "\n",
    "Review the history of the **`beans`** table below."
   ]
  },
  {
   "cell_type": "code",
   "execution_count": 0,
   "metadata": {
    "application/vnd.databricks.v1+cell": {
     "cellMetadata": {},
     "inputWidgets": {},
     "nuid": "36a06779-c1ae-4a37-b08d-29fed04be9b2",
     "showTitle": false,
     "tableResultSettingsMap": {},
     "title": ""
    }
   },
   "outputs": [],
   "source": [
    "<FILL-IN>"
   ]
  },
  {
   "cell_type": "markdown",
   "metadata": {
    "application/vnd.databricks.v1+cell": {
     "cellMetadata": {},
     "inputWidgets": {},
     "nuid": "8c1ef2bd-c4cd-44e8-b649-7dbe2d27624d",
     "showTitle": false,
     "tableResultSettingsMap": {},
     "title": ""
    }
   },
   "source": [
    "If all the previous operations were completed as described you should see 9 versions of the table (**NOTE**: Delta Lake versioning starts with 0, so the max version number will be 8).\n",
    "\n",
    "The operations should be as follows:\n",
    "\n",
    "| version | operation |\n",
    "| --- | --- |\n",
    "| 0 | CREATE TABLE |\n",
    "| 1 | WRITE |\n",
    "| 2 | WRITE |\n",
    "| 3 | UPDATE |\n",
    "| 4 | OPTIMIZE |\n",
    "| 5 | UPDATE |\n",
    "| 6 | DELETE |\n",
    "| 7 | OPTIMIZE |\n",
    "| 8 | MERGE |\n",
    "\n",
    "The **`operationsParameters`** column will let you review predicates used for updates, deletes, and merges. The **`operationMetrics`** column indicates how many rows and files are added in each operation.\n",
    "\n",
    "Spend some time reviewing the Delta Lake history to understand which table version matches with a given transaction.\n",
    "\n",
    "**NOTE**: The **`version`** column designates the state of a table once a given transaction completes. The **`readVersion`** column indicates the version of the table an operation executed against. In this simple demo (with no concurrent transactions), this relationship should always increment by 1."
   ]
  },
  {
   "cell_type": "markdown",
   "metadata": {
    "application/vnd.databricks.v1+cell": {
     "cellMetadata": {},
     "inputWidgets": {},
     "nuid": "363f694a-a195-4783-824a-e5365480c1c6",
     "showTitle": false,
     "tableResultSettingsMap": {},
     "title": ""
    }
   },
   "source": [
    "## Query a Specific Version\n",
    "\n",
    "After reviewing the table history, you decide you want to view the state of your table after your very first data was inserted.\n",
    "\n",
    "Run the query below to see this."
   ]
  },
  {
   "cell_type": "code",
   "execution_count": 0,
   "metadata": {
    "application/vnd.databricks.v1+cell": {
     "cellMetadata": {},
     "inputWidgets": {},
     "nuid": "98b4ab73-0d27-400d-8780-8c501f6a6dd6",
     "showTitle": false,
     "tableResultSettingsMap": {},
     "title": ""
    }
   },
   "outputs": [],
   "source": [
    "SELECT * \n",
    "FROM beans VERSION AS OF 1;"
   ]
  },
  {
   "cell_type": "markdown",
   "metadata": {
    "application/vnd.databricks.v1+cell": {
     "cellMetadata": {},
     "inputWidgets": {},
     "nuid": "193f91af-046c-45a5-aa9f-bb534956cb58",
     "showTitle": false,
     "tableResultSettingsMap": {},
     "title": ""
    }
   },
   "source": [
    "And now review the current state of your data."
   ]
  },
  {
   "cell_type": "code",
   "execution_count": 0,
   "metadata": {
    "application/vnd.databricks.v1+cell": {
     "cellMetadata": {},
     "inputWidgets": {},
     "nuid": "a333faac-a898-4129-94a9-bddafa985b78",
     "showTitle": false,
     "tableResultSettingsMap": {},
     "title": ""
    }
   },
   "outputs": [],
   "source": [
    "SELECT * \n",
    "FROM beans;"
   ]
  },
  {
   "cell_type": "markdown",
   "metadata": {
    "application/vnd.databricks.v1+cell": {
     "cellMetadata": {},
     "inputWidgets": {},
     "nuid": "4772b77b-4475-4752-8a33-b1d7a1f32197",
     "showTitle": false,
     "tableResultSettingsMap": {},
     "title": ""
    }
   },
   "source": [
    "You want to review the weights of your beans before you deleted any records.\n",
    "\n",
    "Fill in the statement below to register a temporary view of the version just before data was deleted, then run the following cell to query the view."
   ]
  },
  {
   "cell_type": "code",
   "execution_count": 0,
   "metadata": {
    "application/vnd.databricks.v1+cell": {
     "cellMetadata": {},
     "inputWidgets": {},
     "nuid": "851fe50b-11a5-42a3-9de3-1de4451f7d63",
     "showTitle": false,
     "tableResultSettingsMap": {},
     "title": ""
    }
   },
   "outputs": [],
   "source": [
    "CREATE OR REPLACE TEMP VIEW pre_delete_vw AS\n",
    "<FILL-IN>"
   ]
  },
  {
   "cell_type": "code",
   "execution_count": 0,
   "metadata": {
    "application/vnd.databricks.v1+cell": {
     "cellMetadata": {},
     "inputWidgets": {},
     "nuid": "876a23d9-2966-48b0-a5a2-82aa8d627d43",
     "showTitle": false,
     "tableResultSettingsMap": {},
     "title": ""
    }
   },
   "outputs": [],
   "source": [
    "SELECT * \n",
    "FROM pre_delete_vw;"
   ]
  },
  {
   "cell_type": "markdown",
   "metadata": {
    "application/vnd.databricks.v1+cell": {
     "cellMetadata": {},
     "inputWidgets": {},
     "nuid": "316bb34e-d8e0-41a8-95ca-9f8131ba809a",
     "showTitle": false,
     "tableResultSettingsMap": {},
     "title": ""
    }
   },
   "source": [
    "Run the cell below to check that you have captured the correct version."
   ]
  },
  {
   "cell_type": "code",
   "execution_count": 0,
   "metadata": {
    "application/vnd.databricks.v1+cell": {
     "cellMetadata": {},
     "inputWidgets": {},
     "nuid": "78ee3f5b-9204-4b76-8b3c-95c536bc3706",
     "showTitle": false,
     "tableResultSettingsMap": {},
     "title": ""
    }
   },
   "outputs": [],
   "source": [
    "%python\n",
    "assert spark.catalog.tableExists(\"pre_delete_vw\"), \"Make sure you have registered the temporary view with the provided name `pre_delete_vw`\"\n",
    "assert spark.table(\"pre_delete_vw\").count() == 6, \"Make sure you're querying a version of the table with 6 records\"\n",
    "assert spark.table(\"pre_delete_vw\").selectExpr(\"int(sum(grams))\").first()[0] == 43220, \"Make sure you query the version of the table after updates were applied\""
   ]
  },
  {
   "cell_type": "markdown",
   "metadata": {
    "application/vnd.databricks.v1+cell": {
     "cellMetadata": {},
     "inputWidgets": {},
     "nuid": "68ded810-49e9-4fcd-9109-bd8a9e4c2177",
     "showTitle": false,
     "tableResultSettingsMap": {},
     "title": ""
    }
   },
   "source": [
    "## Restore a Previous Version\n",
    "\n",
    "Apparently there was a misunderstanding; the beans your friend gave you that you merged into your collection were not intended for you to keep.\n",
    "\n",
    "Revert your table to the version before this **`MERGE`** statement completed."
   ]
  },
  {
   "cell_type": "code",
   "execution_count": 0,
   "metadata": {
    "application/vnd.databricks.v1+cell": {
     "cellMetadata": {},
     "inputWidgets": {},
     "nuid": "07c58023-5385-4e4e-9750-4873c044ea54",
     "showTitle": false,
     "tableResultSettingsMap": {},
     "title": ""
    }
   },
   "outputs": [],
   "source": [
    "<FILL-IN>"
   ]
  },
  {
   "cell_type": "markdown",
   "metadata": {
    "application/vnd.databricks.v1+cell": {
     "cellMetadata": {},
     "inputWidgets": {},
     "nuid": "4428ea00-2053-41c3-a355-ae43ee44ed91",
     "showTitle": false,
     "tableResultSettingsMap": {},
     "title": ""
    }
   },
   "source": [
    "Review the history of your table. Make note of the fact that restoring to a previous version adds another table version."
   ]
  },
  {
   "cell_type": "code",
   "execution_count": 0,
   "metadata": {
    "application/vnd.databricks.v1+cell": {
     "cellMetadata": {},
     "inputWidgets": {},
     "nuid": "76aca60b-3b9d-480c-a668-a7fe88058354",
     "showTitle": false,
     "tableResultSettingsMap": {},
     "title": ""
    }
   },
   "outputs": [],
   "source": [
    "DESCRIBE HISTORY beans;"
   ]
  },
  {
   "cell_type": "code",
   "execution_count": 0,
   "metadata": {
    "application/vnd.databricks.v1+cell": {
     "cellMetadata": {},
     "inputWidgets": {},
     "nuid": "6cec0e73-4481-4bf8-8b18-d857e9d7c4ff",
     "showTitle": false,
     "tableResultSettingsMap": {},
     "title": ""
    }
   },
   "outputs": [],
   "source": [
    "%python\n",
    "last_tx = spark.conf.get(\"spark.databricks.delta.lastCommitVersionInSession\")\n",
    "assert spark.sql(f\"DESCRIBE HISTORY beans\").select(\"operation\").first()[0] == \"RESTORE\", \"Make sure you reverted your table with the `RESTORE` keyword\"\n",
    "assert spark.table(\"beans\").count() == 5, \"Make sure you reverted to the version after deleting records but before merging\""
   ]
  },
  {
   "cell_type": "markdown",
   "metadata": {
    "application/vnd.databricks.v1+cell": {
     "cellMetadata": {},
     "inputWidgets": {},
     "nuid": "84297b78-a913-48ec-a1b0-644f91983d13",
     "showTitle": false,
     "tableResultSettingsMap": {},
     "title": ""
    }
   },
   "source": [
    "By completing this lab, you should now feel comfortable:\n",
    "* Completing standard Delta Lake table creation and data manipulation commands\n",
    "* Reviewing table metadata including table history\n",
    "* Leverage Delta Lake versioning for snapshot queries and rollbacks"
   ]
  },
  {
   "cell_type": "markdown",
   "metadata": {
    "application/vnd.databricks.v1+cell": {
     "cellMetadata": {},
     "inputWidgets": {},
     "nuid": "8f026020-e4d2-4534-aa39-1b5196a5701e",
     "showTitle": false,
     "tableResultSettingsMap": {},
     "title": ""
    }
   },
   "source": [
    "\n",
    "&copy; 2024 Databricks, Inc. All rights reserved.<br/>\n",
    "Apache, Apache Spark, Spark and the Spark logo are trademarks of the \n",
    "<a href=\"https://www.apache.org/\">Apache Software Foundation</a>.<br/>\n",
    "<br/><a href=\"https://databricks.com/privacy-policy\">Privacy Policy</a> | \n",
    "<a href=\"https://databricks.com/terms-of-use\">Terms of Use</a> | \n",
    "<a href=\"https://help.databricks.com/\">Support</a>"
   ]
  }
 ],
 "metadata": {
  "application/vnd.databricks.v1+notebook": {
   "computePreferences": null,
   "dashboards": [],
   "environmentMetadata": null,
   "language": "sql",
   "notebookMetadata": {},
   "notebookName": "8L - Manipulate Delta Tables Lab",
   "widgets": {}
  },
  "language_info": {
   "name": "sql"
  }
 },
 "nbformat": 4,
 "nbformat_minor": 0
}