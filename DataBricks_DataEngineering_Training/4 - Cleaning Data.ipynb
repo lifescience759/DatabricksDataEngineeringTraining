{
 "cells": [
  {
   "cell_type": "markdown",
   "metadata": {
    "application/vnd.databricks.v1+cell": {
     "cellMetadata": {},
     "inputWidgets": {},
     "nuid": "32413a87-2dd4-4c17-919d-0374ea87e29a",
     "showTitle": false,
     "tableResultSettingsMap": {},
     "title": ""
    }
   },
   "source": [
    "\n",
    "<div style=\"text-align: center; line-height: 0; padding-top: 9px;\">\n",
    "  <img src=\"https://databricks.com/wp-content/uploads/2018/03/db-academy-rgb-1200px.png\" alt=\"Databricks Learning\">\n",
    "</div>\n"
   ]
  },
  {
   "cell_type": "markdown",
   "metadata": {
    "application/vnd.databricks.v1+cell": {
     "cellMetadata": {},
     "inputWidgets": {},
     "nuid": "a62c3f54-068c-45dd-9a3c-65c9857cc56f",
     "showTitle": false,
     "tableResultSettingsMap": {},
     "title": ""
    }
   },
   "source": [
    "# Cleaning Data\n",
    "\n",
    "As we inspect and clean our data, we'll need to construct various column expressions and queries to express transformations to apply on our dataset.\n",
    "\n",
    "Column expressions are constructed from existing columns, operators, and built-in functions. They can be used in **`SELECT`** statements to express transformations that create new columns.\n",
    "\n",
    "Many standard SQL query commands (e.g. **`DISTINCT`**, **`WHERE`**, **`GROUP BY`**, etc.) are available in Spark SQL to express transformations.\n",
    "\n",
    "In this notebook, we'll review a few concepts that might differ from other systems you're used to, as well as calling out a few useful functions for common operations.\n",
    "\n",
    "We'll pay special attention to behaviors around **`NULL`** values, as well as formatting strings and datetime fields.\n",
    "\n",
    "## Learning Objectives\n",
    "By the end of this lesson, you should be able to:\n",
    "- Summarize datasets and describe null behaviors\n",
    "- Retrieve and remove duplicates\n",
    "- Validate datasets for expected counts, missing values, and duplicate records\n",
    "- Apply common transformations to clean and transform data"
   ]
  },
  {
   "cell_type": "markdown",
   "metadata": {
    "application/vnd.databricks.v1+cell": {
     "cellMetadata": {},
     "inputWidgets": {},
     "nuid": "6f0330cd-5ddc-48b4-96d6-cab9ff85fcbb",
     "showTitle": false,
     "tableResultSettingsMap": {},
     "title": ""
    }
   },
   "source": [
    "## REQUIRED - SELECT CLASSIC COMPUTE\n",
    "\n",
    "Before executing cells in this notebook, please select your classic compute cluster in the lab. Be aware that **Serverless** is enabled by default.\n",
    "\n",
    "Follow these steps to select the classic compute cluster:\n",
    "\n",
    "1. Navigate to the top-right of this notebook and click the drop-down menu to select your cluster. By default, the notebook will use **Serverless**.\n",
    "\n",
    "1. If your cluster is available, select it and continue to the next cell. If the cluster is not shown:\n",
    "\n",
    "  - In the drop-down, select **More**.\n",
    "\n",
    "  - In the **Attach to an existing compute resource** pop-up, select the first drop-down. You will see a unique cluster name in that drop-down. Please select that cluster.\n",
    "\n",
    "**NOTE:** If your cluster has terminated, you might need to restart it in order to select it. To do this:\n",
    "\n",
    "1. Right-click on **Compute** in the left navigation pane and select *Open in new tab*.\n",
    "\n",
    "1. Find the triangle icon to the right of your compute cluster name and click it.\n",
    "\n",
    "1. Wait a few minutes for the cluster to start.\n",
    "\n",
    "1. Once the cluster is running, complete the steps above to select your cluster."
   ]
  },
  {
   "cell_type": "markdown",
   "metadata": {
    "application/vnd.databricks.v1+cell": {
     "cellMetadata": {},
     "inputWidgets": {},
     "nuid": "1c4bd25e-be50-4b89-a7cd-4b8ee76794d8",
     "showTitle": false,
     "tableResultSettingsMap": {},
     "title": ""
    }
   },
   "source": [
    "## Classroom Setup\n",
    "\n",
    "Run the following cell to configure your working environment for this course. It will also set your default catalog to **dbacademy** and the schema to your specific schema name shown below using the `USE` statements.\n",
    "<br></br>\n",
    "\n",
    "\n",
    "```\n",
    "USE CATALOG dbacademy;\n",
    "USE SCHEMA dbacademy.<your unique schema name>;\n",
    "```\n",
    "\n",
    "**NOTE:** The `DA` object is only used in Databricks Academy courses and is not available outside of these courses. It will dynamically reference the information needed to run the course."
   ]
  },
  {
   "cell_type": "code",
   "execution_count": 0,
   "metadata": {
    "application/vnd.databricks.v1+cell": {
     "cellMetadata": {},
     "inputWidgets": {},
     "nuid": "ebde463c-1054-4a5f-894f-00b27dc2a095",
     "showTitle": false,
     "tableResultSettingsMap": {},
     "title": ""
    }
   },
   "outputs": [],
   "source": [
    "%run ./Includes/Classroom-Setup-4"
   ]
  },
  {
   "cell_type": "markdown",
   "metadata": {
    "application/vnd.databricks.v1+cell": {
     "cellMetadata": {},
     "inputWidgets": {},
     "nuid": "f695c482-b1b5-4fbf-bdcb-67d901ef834a",
     "showTitle": false,
     "tableResultSettingsMap": {},
     "title": ""
    }
   },
   "source": [
    "## Data Overview\n",
    "\n",
    "We'll work with new users records from the **`users_bronze`** table, which has the following schema:\n",
    "\n",
    "| field | type | description |\n",
    "|---|---|---|\n",
    "| user_id | string | unique identifier |\n",
    "| user_first_touch_timestamp | long | time at which the user record was created in microseconds since epoch |\n",
    "| email | string | most recent email address provided by the user to complete an action |\n",
    "| updated | timestamp | time at which this record was last updated |\n",
    "\n",
    "Let's start by creating a `users_silver` table, based on the `users_bronze` table. This allows us to keep the `users_bronze` table in its raw, original form so we have it if we need it. Thus, the `users_silver` table will be the clean version of our users data. We are going to add a handful of extra columns that will store additional items we feel are important for analysts to work with:\n",
    "* `first_touch_time`\n",
    "* `first_touch`"
   ]
  },
  {
   "cell_type": "code",
   "execution_count": 0,
   "metadata": {
    "application/vnd.databricks.v1+cell": {
     "cellMetadata": {},
     "inputWidgets": {},
     "nuid": "8b3108c0-1883-4ef7-85bf-80fd5318d21e",
     "showTitle": false,
     "tableResultSettingsMap": {},
     "title": ""
    }
   },
   "outputs": [],
   "source": [
    "CREATE TABLE IF NOT EXISTS users_silver \n",
    "  (user_id STRING, \n",
    "  user_first_touch_timestamp BIGINT, \n",
    "  email STRING, \n",
    "  updated TIMESTAMP, \n",
    "  first_touch TIMESTAMP,\n",
    "  first_touch_date DATE,\n",
    "  first_touch_time STRING,\n",
    "  email_domain STRING);\n",
    "\n",
    "CREATE OR REPLACE TABLE users_silver_working AS\n",
    "SELECT * FROM users_bronze;\n",
    "  \n",
    "SELECT * \n",
    "FROM users_silver_working LIMIT 10;"
   ]
  },
  {
   "cell_type": "markdown",
   "metadata": {
    "application/vnd.databricks.v1+cell": {
     "cellMetadata": {},
     "inputWidgets": {},
     "nuid": "5ea47edb-7c6d-41e3-b0da-7003a231126d",
     "showTitle": false,
     "tableResultSettingsMap": {},
     "title": ""
    }
   },
   "source": [
    "## Data Profile \n",
    "\n",
    "Databricks offers two convenient methods for data profiling within Notebooks: through the cell output UI and via the dbutils library.\n",
    "\n",
    "When working with data frames or the results of SQL queries in a Databricks Notebook, users have the option to access a dedicated **Data Profile** tab. Clicking on this tab initiates the creation of an extensive data profile, providing not only summary statistics but also histograms that cover the entire dataset, ensuring a comprehensive view of the data, rather than just what is visible.\n",
    "\n",
    "This data profile encompasses a range of insights, including information about numeric, string, and date columns, making it a powerful tool for data exploration and understanding.\n",
    "\n",
    "**Using cell output UI:**\n",
    "\n",
    "1. In the upper-left corner of the cell output of our query above, you will see the word **Table**. Click the \"+\" symbol immediately to the right of this, and select **Data Profile**.\n",
    "\n",
    "1. Databricks will automatically execute a new command to generate a data profile.\n",
    "\n",
    "1. The generated data profile will provide summary statistics for numeric, string, and date columns, along with histograms of value distributions for each column."
   ]
  },
  {
   "cell_type": "markdown",
   "metadata": {
    "application/vnd.databricks.v1+cell": {
     "cellMetadata": {},
     "inputWidgets": {},
     "nuid": "f0d31f46-d4dd-46e1-b37d-15c2a9e7cd3b",
     "showTitle": false,
     "tableResultSettingsMap": {},
     "title": ""
    }
   },
   "source": [
    "\n",
    "## Missing Data\n",
    "\n",
    "Based on the counts above, it looks like there are at least a handful of null values in all of our fields. Null values behave incorrectly in some math functions, including **`count()`**.\n",
    "\n",
    "But more importantly, we may have problems with null values in our user_id column. From the count of all the rows in the table, found at the bottom of the Table results, and the count of the `user_id` column in the Data Profile, we can see that there are three rows with null values for `user_id`. Let's query these rows."
   ]
  },
  {
   "cell_type": "code",
   "execution_count": 0,
   "metadata": {
    "application/vnd.databricks.v1+cell": {
     "cellMetadata": {},
     "inputWidgets": {},
     "nuid": "13e4b4f9-2cb4-47da-8740-3c06a660554f",
     "showTitle": false,
     "tableResultSettingsMap": {},
     "title": ""
    }
   },
   "outputs": [],
   "source": [
    "SELECT * \n",
    "FROM users_silver_working \n",
    "WHERE user_id IS NULL;"
   ]
  },
  {
   "cell_type": "markdown",
   "metadata": {
    "application/vnd.databricks.v1+cell": {
     "cellMetadata": {},
     "inputWidgets": {},
     "nuid": "bd259b51-1918-46e1-adff-e8f5ecfa082c",
     "showTitle": false,
     "tableResultSettingsMap": {},
     "title": ""
    }
   },
   "source": [
    "Since all three rows are obvious errors, let's remove them."
   ]
  },
  {
   "cell_type": "code",
   "execution_count": 0,
   "metadata": {
    "application/vnd.databricks.v1+cell": {
     "cellMetadata": {},
     "inputWidgets": {},
     "nuid": "19752c04-7210-4bcc-8028-71fb5fbf8526",
     "showTitle": false,
     "tableResultSettingsMap": {},
     "title": ""
    }
   },
   "outputs": [],
   "source": [
    "CREATE OR REPLACE TABLE users_silver_working AS\n",
    "SELECT * \n",
    "FROM users_silver_working \n",
    "WHERE user_id IS NOT NULL;\n",
    "\n",
    "-- Confirm get 'No rows returned' when query for null values in 'user_id' rows\n",
    "SELECT * \n",
    "FROM users_silver_working \n",
    "WHERE user_id IS NULL;"
   ]
  },
  {
   "cell_type": "markdown",
   "metadata": {
    "application/vnd.databricks.v1+cell": {
     "cellMetadata": {},
     "inputWidgets": {},
     "nuid": "78370467-c124-41de-9a03-e33cdf50b18f",
     "showTitle": false,
     "tableResultSettingsMap": {},
     "title": ""
    }
   },
   "source": [
    " \n",
    "## Deduplicate Rows\n",
    "We can use **`DISTINCT *`** to remove true duplicate records where entire rows contain the same values.\n",
    "\n",
    "After running the cell below, note that there were no true duplicates."
   ]
  },
  {
   "cell_type": "code",
   "execution_count": 0,
   "metadata": {
    "application/vnd.databricks.v1+cell": {
     "cellMetadata": {},
     "inputWidgets": {},
     "nuid": "24dcca2c-eaaa-4c88-9b87-2fb85f340e2c",
     "showTitle": false,
     "tableResultSettingsMap": {},
     "title": ""
    }
   },
   "outputs": [],
   "source": [
    "INSERT OVERWRITE users_silver_working \n",
    "  SELECT DISTINCT(*) \n",
    "  FROM users_silver_working;"
   ]
  },
  {
   "cell_type": "markdown",
   "metadata": {
    "application/vnd.databricks.v1+cell": {
     "cellMetadata": {},
     "inputWidgets": {},
     "nuid": "b92a051b-fb50-45b4-be1b-9b191a701a2b",
     "showTitle": false,
     "tableResultSettingsMap": {},
     "title": ""
    }
   },
   "source": [
    "## Deduplicate Rows Based on Specific Columns\n",
    "\n",
    "The code below uses **`GROUP BY`** to remove duplicate records based on **`user_id`** and **`user_first_touch_timestamp`** column values. (Recall that these fields are both generated when a given user is first encountered, thus forming unique tuples.)\n",
    "\n",
    "Here, we are using the aggregate function **`max`** as a hack to:\n",
    "- Keep values from the **`email`** and **`updated`** columns in the result of our group by\n",
    "- Capture non-null emails when multiple records are present"
   ]
  },
  {
   "cell_type": "code",
   "execution_count": 0,
   "metadata": {
    "application/vnd.databricks.v1+cell": {
     "cellMetadata": {},
     "inputWidgets": {},
     "nuid": "2093e7e8-86bd-493d-8154-3f3b063cc2e1",
     "showTitle": false,
     "tableResultSettingsMap": {},
     "title": ""
    }
   },
   "outputs": [],
   "source": [
    "INSERT OVERWRITE users_silver_working\n",
    "SELECT \n",
    "  user_id, \n",
    "  user_first_touch_timestamp, \n",
    "  max(email) AS email, \n",
    "  first_touch_date, max(updated), \n",
    "  any_value(source_file) AS updated\n",
    "FROM users_silver_working\n",
    "WHERE user_id IS NOT NULL\n",
    "GROUP BY user_id, user_first_touch_timestamp, first_touch_date;\n",
    "\n",
    "\n",
    "SELECT count(*) \n",
    "FROM users_silver_working LIMIT 10;"
   ]
  },
  {
   "cell_type": "markdown",
   "metadata": {
    "application/vnd.databricks.v1+cell": {
     "cellMetadata": {},
     "inputWidgets": {},
     "nuid": "7c1b3d19-fd0d-4b40-9b5c-ab90ffb01580",
     "showTitle": false,
     "tableResultSettingsMap": {},
     "title": ""
    }
   },
   "source": [
    "\n",
    "## Validate Datasets\n",
    "Let's programmatically perform validation using simple filters and **`WHERE`** clauses.\n",
    "\n",
    "Validate that the **`user_id`** for each row is unique.\n",
    "\n",
    "We expect that there will only be one of each `user_id` in our `users_silver_working` table. By grouping by the `user_id`, and counting the number of rows in each group, we can determine if there is more than one `user_id` by running a comparison in the **`SELECT`** clause. We, therefore, expect a Boolean value as our result set: true if there is only one of each `user_id` and false if there is more than one."
   ]
  },
  {
   "cell_type": "code",
   "execution_count": 0,
   "metadata": {
    "application/vnd.databricks.v1+cell": {
     "cellMetadata": {},
     "inputWidgets": {},
     "nuid": "7a8ce8bd-315b-46aa-bb0a-d5caee460d18",
     "showTitle": false,
     "tableResultSettingsMap": {},
     "title": ""
    }
   },
   "outputs": [],
   "source": [
    "SELECT max(row_count) = 1 AS no_duplicate_user_ids \n",
    "FROM (\n",
    "  SELECT user_id, count(*) AS row_count\n",
    "  FROM users_silver_working\n",
    "  GROUP BY user_id\n",
    ");"
   ]
  },
  {
   "cell_type": "markdown",
   "metadata": {
    "application/vnd.databricks.v1+cell": {
     "cellMetadata": {},
     "inputWidgets": {},
     "nuid": "88db16be-8eff-4246-a9d5-4ea10da93420",
     "showTitle": false,
     "tableResultSettingsMap": {},
     "title": ""
    }
   },
   "source": [
    "Confirm that each email is associated with at most one **`user_id`**.\n",
    "\n",
    "We perform the same action as above, but this time, we are checking the `email` field. Again, we get a Boolean in return."
   ]
  },
  {
   "cell_type": "code",
   "execution_count": 0,
   "metadata": {
    "application/vnd.databricks.v1+cell": {
     "cellMetadata": {},
     "inputWidgets": {},
     "nuid": "dd810396-adce-4b81-b7f7-a6f77566680e",
     "showTitle": false,
     "tableResultSettingsMap": {},
     "title": ""
    }
   },
   "outputs": [],
   "source": [
    "SELECT max(user_id_count) = 1 one_user_id_per_email \n",
    "FROM (\n",
    "  SELECT email, count(user_id) AS user_id_count\n",
    "  FROM users_silver_working\n",
    "  WHERE email IS NOT NULL\n",
    "  GROUP BY email\n",
    ");"
   ]
  },
  {
   "cell_type": "markdown",
   "metadata": {
    "application/vnd.databricks.v1+cell": {
     "cellMetadata": {},
     "inputWidgets": {},
     "nuid": "7a2b960c-d951-4011-b40f-6e99733e34e0",
     "showTitle": false,
     "tableResultSettingsMap": {},
     "title": ""
    }
   },
   "source": [
    "## Date Format and Regex\n",
    "Now that we've removed null fields and eliminated duplicates, we may wish to extract further value out of the data.\n",
    "\n",
    "Currently, the **`user_first_touch_timestamp`** is formatted as a Unix timestamp (the number of microseconds since January 1, 1970). We want to convert this to a Spark timestamp in `YYYY-MM-DDThh.mm.sssss` format.\n",
    "\n",
    "The code below:\n",
    "- Correctly scales and casts the **`user_first_touch_timestamp`** to a timestamp\n",
    "- Extracts the calendar date and clock time for this timestamp in human readable format\n",
    "- Uses **`regexp_extract`** to extract the domains from the email column using regex\n",
    "\n",
    "We have a number of different [date formats](https://spark.apache.org/docs/latest/sql-ref-datetime-pattern.html) to choose from.\n",
    "\n",
    "Note also in line 6 that we are using a regular expression (regex). In this regex string, we are using a \"positive look behind\" to return all characters after the \"@\" symbol. You can [learn more about Java regular expressions](https://www.w3schools.com/java/java_regex.asp)."
   ]
  },
  {
   "cell_type": "code",
   "execution_count": 0,
   "metadata": {
    "application/vnd.databricks.v1+cell": {
     "cellMetadata": {},
     "inputWidgets": {},
     "nuid": "7f52168a-88a7-4e0e-89ae-ca4cfadcbf9c",
     "showTitle": false,
     "tableResultSettingsMap": {},
     "title": ""
    }
   },
   "outputs": [],
   "source": [
    "INSERT INTO users_silver\n",
    "(SELECT \n",
    "  user_id,\n",
    "  user_first_touch_timestamp,\n",
    "  email,\n",
    "  updated,\n",
    "  first_touch,\n",
    "  to_date(date_format(first_touch, \"yyy-M-d\")) AS first_touch_date,\n",
    "  date_format(first_touch, \"HH:mm:ss\") AS first_touch_time,\n",
    "  regexp_extract(email, \"@(.*)\", 0) AS email_domain\n",
    "FROM (\n",
    "  SELECT user_id,\n",
    "    user_first_touch_timestamp,\n",
    "    CAST(user_first_touch_timestamp / 1e6 AS timestamp) AS first_touch,\n",
    "    email,\n",
    "    first_touch_date,\n",
    "    updated,\n",
    "    source_file \n",
    "  FROM users_silver_working\n",
    "));"
   ]
  },
  {
   "cell_type": "markdown",
   "metadata": {
    "application/vnd.databricks.v1+cell": {
     "cellMetadata": {},
     "inputWidgets": {},
     "nuid": "0e012851-e554-44e2-bc03-ac46053cf071",
     "showTitle": false,
     "tableResultSettingsMap": {},
     "title": ""
    }
   },
   "source": [
    "Run the cell below to see the cleaned data in the `users_silver` table."
   ]
  },
  {
   "cell_type": "code",
   "execution_count": 0,
   "metadata": {
    "application/vnd.databricks.v1+cell": {
     "cellMetadata": {},
     "inputWidgets": {},
     "nuid": "dc5ecc17-473a-4d8b-9c61-9d17730e503c",
     "showTitle": false,
     "tableResultSettingsMap": {},
     "title": ""
    }
   },
   "outputs": [],
   "source": [
    "SELECT * EXCEPT (updated, first_touch) \n",
    "FROM users_silver \n",
    "LIMIT 10;"
   ]
  },
  {
   "cell_type": "markdown",
   "metadata": {
    "application/vnd.databricks.v1+cell": {
     "cellMetadata": {},
     "inputWidgets": {},
     "nuid": "2ade4942-f624-467e-8cc0-747ddeafc0c2",
     "showTitle": false,
     "tableResultSettingsMap": {},
     "title": ""
    }
   },
   "source": [
    "## Bonus lab\n",
    "\n",
    "#### Rewrite Cell 22 to retrieve 'email_domain' values without the '@' sign.  \n",
    "#### Then run Cell 24 to confirm it worked. Note: Add a WHERE clause to find domain names without leading '%'.\n",
    "#### For example, want 'smith.com' instead of '@smith.com'."
   ]
  },
  {
   "cell_type": "markdown",
   "metadata": {
    "application/vnd.databricks.v1+cell": {
     "cellMetadata": {},
     "inputWidgets": {},
     "nuid": "5797e3cd-24dd-4af8-a8b3-139fcaa82970",
     "showTitle": false,
     "tableResultSettingsMap": {},
     "title": ""
    }
   },
   "source": [
    "\n",
    "&copy; 2024 Databricks, Inc. All rights reserved.<br/>\n",
    "Apache, Apache Spark, Spark and the Spark logo are trademarks of the \n",
    "<a href=\"https://www.apache.org/\">Apache Software Foundation</a>.<br/>\n",
    "<br/><a href=\"https://databricks.com/privacy-policy\">Privacy Policy</a> | \n",
    "<a href=\"https://databricks.com/terms-of-use\">Terms of Use</a> | \n",
    "<a href=\"https://help.databricks.com/\">Support</a>"
   ]
  }
 ],
 "metadata": {
  "application/vnd.databricks.v1+notebook": {
   "computePreferences": null,
   "dashboards": [],
   "environmentMetadata": null,
   "language": "sql",
   "notebookMetadata": {},
   "notebookName": "4 - Cleaning Data",
   "widgets": {}
  },
  "language_info": {
   "name": "sql"
  }
 },
 "nbformat": 4,
 "nbformat_minor": 0
}